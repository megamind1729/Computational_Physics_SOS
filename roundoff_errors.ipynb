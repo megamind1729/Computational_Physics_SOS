{
 "cells": [
  {
   "attachments": {},
   "cell_type": "markdown",
   "metadata": {},
   "source": [
    "ROUND OFF ERRORS IN ADDITION AND SUBTRACTION OF LARGE AND SMALL NUMBERS"
   ]
  },
  {
   "cell_type": "code",
   "execution_count": 4,
   "metadata": {},
   "outputs": [
    {
     "name": "stdout",
     "output_type": "stream",
     "text": [
      "3.141592653589793\n"
     ]
    }
   ],
   "source": [
    "from math import pi,sqrt\n",
    "print(pi)"
   ]
  },
  {
   "cell_type": "code",
   "execution_count": 6,
   "metadata": {},
   "outputs": [
    {
     "name": "stdout",
     "output_type": "stream",
     "text": [
      "dt: 1.4142135623730953e-15\n",
      "dn: 1.3322676295501878e-15\n"
     ]
    }
   ],
   "source": [
    "x = 1.0\n",
    "y = 1.0 + 1e-15*sqrt(2)\n",
    "dt = 1e-15*sqrt(2)\n",
    "dn = y-x\n",
    "print(\"dt:\",dt)                 # Subtractive cancellation (similar roundoff errors in addition: (large + small) also)\n",
    "print(\"dn:\",dn)                 # (Round-off errors not so much in multiplication and division) "
   ]
  },
  {
   "attachments": {},
   "cell_type": "markdown",
   "metadata": {},
   "source": [
    "TRUNCATION ERRORS (eg: truncating an infinite series)"
   ]
  },
  {
   "attachments": {},
   "cell_type": "markdown",
   "metadata": {},
   "source": [
    "NUMERICAL DIFFERENTIATION\n",
    "\n",
    "Truncation error estimate using Taylor expansion\n",
    "\n",
    "Forward formula [Truncation error ~ O(h)]           # h is stepsize\n",
    "\n",
    "Backward formula [Truncation error ~ O(h)]\n",
    "\n",
    "Centered formula [Truncation error ~ O(h^2)]\n",
    "\n",
    "As stepsize decreases, truncation error decreases, but roundoff error increases (since stepsize has more decimal places.)\n",
    "-> Derivation of OPTIMAL STEPSIZE for minimising total error(roundoff + truncation)"
   ]
  },
  {
   "attachments": {},
   "cell_type": "markdown",
   "metadata": {},
   "source": [
    "ERROR PROPAGATION AND CONDITION NUMBER\n",
    "\n",
    "    Derivation from Taylor series upto first derivative\n",
    "\n",
    "Relative error in f(x) = Condition number * Relative error in x\n",
    "\n",
    "As condition number decreases, error decreases."
   ]
  }
 ],
 "metadata": {
  "kernelspec": {
   "display_name": "Python 3",
   "language": "python",
   "name": "python3"
  },
  "language_info": {
   "codemirror_mode": {
    "name": "ipython",
    "version": 3
   },
   "file_extension": ".py",
   "mimetype": "text/x-python",
   "name": "python",
   "nbconvert_exporter": "python",
   "pygments_lexer": "ipython3",
   "version": "3.10.6"
  },
  "orig_nbformat": 4
 },
 "nbformat": 4,
 "nbformat_minor": 2
}
